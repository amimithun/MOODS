{
 "cells": [
  {
   "cell_type": "code",
   "execution_count": 76,
   "metadata": {},
   "outputs": [],
   "source": [
    "from cerebralcortex import Kernel\n",
    "from datetime import datetime, date, timedelta\n",
    "import matplotlib.pyplot as plt\n",
    "import numpy as np\n",
    "import pandas as pd\n",
    "import seaborn as sns\n",
    "import warnings\n",
    "import pickle\n",
    "\n",
    "pd.options.display.float_format = '{:.3f}'.format\n",
    "pd.set_option('display.max_columns', None)\n",
    "sns.set_style(\"whitegrid\")\n",
    "warnings.filterwarnings(\"ignore\")"
   ]
  },
  {
   "cell_type": "markdown",
   "metadata": {},
   "source": [
    "### Fetch data"
   ]
  },
  {
   "cell_type": "code",
   "execution_count": 2,
   "metadata": {},
   "outputs": [],
   "source": [
    "with open('/home/jupyter/sneupane/MOODS/analysis/papers/CHI/dataframe/final_df.pickle', 'rb') as handle:\n",
    "    final_df = pickle.load(handle).assign(date=lambda df: df['starttime'].dt.date)"
   ]
  },
  {
   "cell_type": "code",
   "execution_count": 3,
   "metadata": {},
   "outputs": [],
   "source": [
    "with open('/home/jupyter/sneupane/MOODS/analysis/papers/CHI/dataframe/final_df_stressed_with_category.pickle', 'rb') as handle:\n",
    "    df_with_category = pickle.load(handle)"
   ]
  },
  {
   "cell_type": "code",
   "execution_count": 4,
   "metadata": {},
   "outputs": [],
   "source": [
    "with open(\"/home/jupyter/sneupane/MOODS/analysis/papers/NPJ/final_df_band.pickle\", 'rb') as handle:\n",
    "    final_df_band = pickle.load(handle)"
   ]
  },
  {
   "cell_type": "code",
   "execution_count": 5,
   "metadata": {
    "scrolled": true
   },
   "outputs": [],
   "source": [
    "stressid_mappedstressors = {x:y for x, y in zip(df_with_category['stress_id'], df_with_category['mapped_stressors'])}"
   ]
  },
  {
   "cell_type": "markdown",
   "metadata": {},
   "source": [
    "### Data cleaning and filtering"
   ]
  },
  {
   "cell_type": "code",
   "execution_count": 6,
   "metadata": {},
   "outputs": [],
   "source": [
    "cols = ['user', 'stress_id', 'value', 'starttime', 'endtime', \n",
    "        'episode_class', 'selected', 'user_generated', \"user_rating\", \n",
    "        'Stressor'] "
   ]
  },
  {
   "cell_type": "code",
   "execution_count": 7,
   "metadata": {},
   "outputs": [],
   "source": [
    "def tweak_ds_users_episodes(df_users_episodes):        \n",
    "    return (df_users_episodes[cols]\n",
    "            .assign(episode_class_new=lambda df_: np.where(df_['value'] > 0.11, 1, 0), \n",
    "                    date=lambda df_: df_['starttime'].dt.date, \n",
    "                    rated=lambda df_: np.where(df_[\"user_rating\"].notnull(), 1, 0), \n",
    "                    mapped_stressors=lambda df_: df_['stress_id'].map(stressid_mappedstressors))\n",
    "            .sort_values(by=['user', 'endtime'])\n",
    "           )"
   ]
  },
  {
   "cell_type": "code",
   "execution_count": 8,
   "metadata": {},
   "outputs": [],
   "source": [
    "def filter_df_users_episodes(df_users_episodes):\n",
    "    return (df_users_episodes\n",
    "            .loc[lambda df: df['endtime'].shift() != df['endtime']]\n",
    "            .loc[lambda df: (df['episode_class'].isin([0, 2])) \n",
    "                 & (df['user_generated'] == 0)] \n",
    "           )"
   ]
  },
  {
   "cell_type": "code",
   "execution_count": 9,
   "metadata": {},
   "outputs": [],
   "source": [
    "def user_rating_change(user_rating):\n",
    "    if user_rating in [\"Probably not stressed\", \"Not stressed\"]:\n",
    "        return \"NotStressed\"\n",
    "    elif user_rating in [\"Probably stressed\", \"Stressed\"]:\n",
    "        return \"Stressed\"\n",
    "    elif user_rating == \"Unsure\":\n",
    "        return \"Unsure\"\n",
    "    else:\n",
    "        return user_rating\n",
    "    \n",
    "def stressor_valid(stressor):\n",
    "    if stressor in [\"illegible\", \"unknown\"]:\n",
    "        return \"illegible\"\n",
    "    elif type(stressor) == str:\n",
    "        return \"Valid\"\n",
    "    else:\n",
    "        return \"NA\"\n",
    "    \n",
    "def user_rating_change_stressor(user_rating,stressor):\n",
    "    if user_rating == \"Stressed\":\n",
    "        if stressor == \"Valid\":\n",
    "            return \"Stressed with valid stressor\"\n",
    "        else:\n",
    "            return \"Stressed with invalid stressor\"\n",
    "    else:\n",
    "        if type(user_rating) == str:\n",
    "            return user_rating + \" with \" + stressor\n",
    "        else:\n",
    "            return user_rating"
   ]
  },
  {
   "cell_type": "code",
   "execution_count": 10,
   "metadata": {},
   "outputs": [],
   "source": [
    "final_df = tweak_ds_users_episodes(final_df)\n",
    "final_df = filter_df_users_episodes(final_df)\n",
    "final_df[\"user_rating_change\"] = final_df[\"user_rating\"].apply(user_rating_change)\n",
    "final_df[\"rating_with_stressor\"] = final_df[\"mapped_stressors\"].apply(stressor_valid)\n",
    "final_df[\"user_rating_change_stressor\"] = (final_df\n",
    "                                         .apply(lambda x: user_rating_change_stressor(x.user_rating, \n",
    "                                                                                      x.rating_with_stressor), \n",
    "                                                axis=1))"
   ]
  },
  {
   "cell_type": "markdown",
   "metadata": {},
   "source": [
    "### Take only stressed events thresholded by 0.11"
   ]
  },
  {
   "cell_type": "code",
   "execution_count": 11,
   "metadata": {},
   "outputs": [],
   "source": [
    "th_based_stress_events = final_df.loc[final_df['episode_class_new'] == 1]"
   ]
  },
  {
   "cell_type": "code",
   "execution_count": 59,
   "metadata": {},
   "outputs": [],
   "source": [
    "fraction_of_thesholded_events = (final_df\n",
    "                                 .groupby(['user'])['episode_class_new']\n",
    "                                 .agg(['sum', 'count'])\n",
    "                                 .assign(fraction=lambda df_: df_['sum'] / df_['count'])\n",
    "                                 .sort_values(by=['fraction']))"
   ]
  },
  {
   "cell_type": "code",
   "execution_count": 80,
   "metadata": {},
   "outputs": [],
   "source": [
    "# fraction_of_thesholded_events.head()"
   ]
  },
  {
   "cell_type": "code",
   "execution_count": 79,
   "metadata": {},
   "outputs": [
    {
     "data": {
      "image/png": "[encoded data removed]",
      "text/plain": [
       "<Figure size 1440x432 with 1 Axes>"
      ]
     },
     "metadata": {},
     "output_type": "display_data"
    }
   ],
   "source": [
    "plt.figure(figsize=(20, 6))\n",
    "sns.barplot(data=fraction_of_thesholded_events, \n",
    "            x=[str(i) for i in range(1, len(fraction_of_thesholded_events) + 1)], \n",
    "            y='fraction')\n",
    "plt.xticks(rotation=90, fontweight='bold')\n",
    "plt.yticks(np.arange(0, 1.1, 0.1), fontweight='bold')\n",
    "plt.xlabel(\"user\", fontweight='bold')\n",
    "plt.ylabel(\"fraction\", fontweight='bold')\n",
    "plt.title(\"fraction of stress events with a threshold of 0.11\", fontweight='bold');"
   ]
  },
  {
   "cell_type": "code",
   "execution_count": 43,
   "metadata": {},
   "outputs": [],
   "source": [
    "daywise_total_stress_events =(final_df\n",
    "                          .groupby(['user', 'date'])['episode_class_new']\n",
    "                          .agg(['sum'])\n",
    "                          .reset_index())"
   ]
  },
  {
   "cell_type": "code",
   "execution_count": 46,
   "metadata": {},
   "outputs": [],
   "source": [
    "# daywise_total_stress_events.head()"
   ]
  },
  {
   "cell_type": "code",
   "execution_count": 13,
   "metadata": {},
   "outputs": [
    {
     "name": "stdout",
     "output_type": "stream",
     "text": [
      "8 8.655400001631024\n"
     ]
    }
   ],
   "source": [
    "def get_max_budget(daywise_total_stress_events, fraction):\n",
    "    max_budget = np.floor(daywise_total_stress_events['sum'].mean() * fraction)\n",
    "    std = np.std(daywise_total_stress_events['sum'])\n",
    "    return int(max_budget), std\n",
    "max_budget, std = get_max_budget(daywise_total_stress_events, 1)\n",
    "print(max_budget, std)"
   ]
  },
  {
   "cell_type": "markdown",
   "metadata": {},
   "source": [
    "### Simulate seqRTS to get prompt decision"
   ]
  },
  {
   "cell_type": "code",
   "execution_count": 14,
   "metadata": {},
   "outputs": [],
   "source": [
    "from collections import defaultdict\n",
    "\n",
    "def simulate_seqRTS(th_based_stress_events, daywise_total_stress_events, max_budget):\n",
    "    stress_events_prompts = defaultdict(dict)\n",
    "    for budget in range(1, max_budget + 1):\n",
    "        grp_dfs = th_based_stress_events.groupby(['user', 'date'])\n",
    "        for (user, date), df in grp_dfs:\n",
    "            forecast = ((daywise_total_stress_events\n",
    "                        .loc[(daywise_total_stress_events['user'] == user) & \n",
    "                             (daywise_total_stress_events['date'] == date), \n",
    "                             'sum'])\n",
    "                        .iloc[0])\n",
    "            tot_delivered = 0\n",
    "            n = 1\n",
    "            if budget >= forecast:\n",
    "                for idx, row in df.iterrows():\n",
    "                    event = row['stress_id']\n",
    "                    stress_events_prompts[budget][event] = 1\n",
    "            else:\n",
    "                for idx, row in df.iterrows():\n",
    "                    event = row['stress_id']                \n",
    "                    randomization_prob = (budget - tot_delivered) / forecast\n",
    "                    prompt = np.random.choice([0, 1], size=n, \n",
    "                                              p=[1-randomization_prob, randomization_prob])[0]\n",
    "                    stress_events_prompts[budget][event] = prompt\n",
    "                    tot_delivered += prompt\n",
    "                    forecast -= 1\n",
    "                \n",
    "    return stress_events_prompts"
   ]
  },
  {
   "cell_type": "code",
   "execution_count": 15,
   "metadata": {},
   "outputs": [],
   "source": [
    "stress_events_prompts = simulate_seqRTS(th_based_stress_events, daywise_total_stress_events, 6)"
   ]
  },
  {
   "cell_type": "code",
   "execution_count": 16,
   "metadata": {},
   "outputs": [
    {
     "data": {
      "text/plain": [
       "dict_keys([1, 2, 3, 4, 5, 6])"
      ]
     },
     "execution_count": 16,
     "metadata": {},
     "output_type": "execute_result"
    }
   ],
   "source": [
    "stress_events_prompts.keys()"
   ]
  },
  {
   "cell_type": "code",
   "execution_count": 17,
   "metadata": {},
   "outputs": [
    {
     "data": {
      "text/plain": [
       "NA           117306\n",
       "Valid         10884\n",
       "illegible       338\n",
       "Name: rating_with_stressor, dtype: int64"
      ]
     },
     "execution_count": 17,
     "metadata": {},
     "output_type": "execute_result"
    }
   ],
   "source": [
    "final_df[\"rating_with_stressor\"].value_counts()"
   ]
  },
  {
   "cell_type": "markdown",
   "metadata": {},
   "source": [
    "### Map prompt decision to th_based_stress_events"
   ]
  },
  {
   "cell_type": "code",
   "execution_count": 18,
   "metadata": {},
   "outputs": [],
   "source": [
    "def assign_prompt_decision(th_based_stress_events, stress_events_prompts):\n",
    "    for key in stress_events_prompts.keys():\n",
    "        new_col = 'budget_' + str(key)\n",
    "        th_based_stress_events[new_col] = th_based_stress_events['stress_id'].map(stress_events_prompts[key])\n",
    "    return th_based_stress_events"
   ]
  },
  {
   "cell_type": "code",
   "execution_count": 19,
   "metadata": {},
   "outputs": [],
   "source": [
    "th_based_stress_events = assign_prompt_decision(th_based_stress_events,\n",
    "                                                stress_events_prompts)"
   ]
  },
  {
   "cell_type": "code",
   "execution_count": 45,
   "metadata": {},
   "outputs": [],
   "source": [
    "# th_based_stress_events.head()"
   ]
  },
  {
   "cell_type": "markdown",
   "metadata": {},
   "source": [
    "### Produce summary result of each day with no observations and valid stressor status for budget between 1 to 6"
   ]
  },
  {
   "cell_type": "code",
   "execution_count": 21,
   "metadata": {},
   "outputs": [],
   "source": [
    "def budget_observations_validstressors(th_based_stress_events, max_budget):\n",
    "    bgt_summary = []\n",
    "    for budget in range(1, max_budget + 1):\n",
    "        req_col = \"budget_\" + str(budget)\n",
    "        prompted_df = th_based_stress_events.loc[th_based_stress_events[req_col] == 1]\n",
    "        grp_dfs = prompted_df.groupby(['user', 'date'])\n",
    "        for (user, date), df in grp_dfs:\n",
    "            no_observation = (df['rated'] == 0).sum()\n",
    "            valid_stressors = (df[\"rating_with_stressor\"] == 'Valid').sum()\n",
    "            bgt_summary.append([user, date, budget, no_observation, valid_stressors])\n",
    "    return pd.DataFrame(bgt_summary, columns=['user', 'date', 'budget', 'no_observation', 'valid_stressor'])"
   ]
  },
  {
   "cell_type": "code",
   "execution_count": 22,
   "metadata": {},
   "outputs": [],
   "source": [
    "result_1 = budget_observations_validstressors(th_based_stress_events, 6)"
   ]
  },
  {
   "cell_type": "code",
   "execution_count": 47,
   "metadata": {},
   "outputs": [],
   "source": [
    "# result_1.head()"
   ]
  },
  {
   "cell_type": "code",
   "execution_count": 24,
   "metadata": {},
   "outputs": [
    {
     "data": {
      "text/plain": [
       "6    7005\n",
       "5    7005\n",
       "4    7005\n",
       "3    7005\n",
       "2    7005\n",
       "1    7005\n",
       "Name: budget, dtype: int64"
      ]
     },
     "execution_count": 24,
     "metadata": {},
     "output_type": "execute_result"
    }
   ],
   "source": [
    "result_1['budget'].value_counts()"
   ]
  },
  {
   "cell_type": "code",
   "execution_count": 87,
   "metadata": {},
   "outputs": [
    {
     "data": {
      "image/png": "[encoded data removed]",
      "text/plain": [
       "<Figure size 576x288 with 1 Axes>"
      ]
     },
     "metadata": {},
     "output_type": "display_data"
    }
   ],
   "source": [
    "data = (result_1\n",
    "        .groupby(['budget'])['no_observation']\n",
    "        .agg(['sum', 'count'])\n",
    "        .reset_index()\n",
    "        .assign(prompted=lambda df_: df_['budget'] * df_['count'], \n",
    "                fraction=lambda df_: df_['sum'] / df_['prompted']))\n",
    "plt.figure(figsize=(8, 4))\n",
    "sns.lineplot(data=data, \n",
    "             x='budget', \n",
    "             y='fraction', \n",
    "             color='red', \n",
    "             marker='o', \n",
    "             markerfacecolor='black')\n",
    "plt.xticks(fontweight='bold')\n",
    "plt.yticks(np.arange(0, 1.1, 0.1), fontweight='bold')\n",
    "plt.xlabel(\"budget\", fontweight='bold')\n",
    "plt.ylabel(\"fraction\", fontweight='bold')\n",
    "plt.title(\"fraction of non-observed events\", fontweight='bold');"
   ]
  },
  {
   "cell_type": "code",
   "execution_count": 25,
   "metadata": {},
   "outputs": [],
   "source": [
    "def map_notobserved_nostressor(budget, no_observation, valid_stressor):\n",
    "    return -1 if budget == no_observation else valid_stressor\n",
    "\n",
    "result_1['valid_stressor'] = result_1.apply(lambda df: map_notobserved_nostressor(df['budget'], \n",
    "                                            df['no_observation'], \n",
    "                                            df['valid_stressor']), \n",
    "                                            axis=1)"
   ]
  },
  {
   "cell_type": "code",
   "execution_count": 48,
   "metadata": {},
   "outputs": [],
   "source": [
    "# result_1.head(5)"
   ]
  },
  {
   "cell_type": "markdown",
   "metadata": {},
   "source": [
    "### Normalize the stressor likelihoods; because our sampling was biased towards higher stress intensity when picking episodes for prompting, placing the prompted episodes into 10 percentile bands and then taking the mean of fraction of valid streesors across all these 10 bands removes the bias. "
   ]
  },
  {
   "cell_type": "code",
   "execution_count": 28,
   "metadata": {},
   "outputs": [],
   "source": [
    "from collections import defaultdict\n",
    "def normalized_one_stressor_likelihood(stress_events_prompts, th_based_stress_events, final_df_band):\n",
    "    normalized_one_stressor_likelihood = defaultdict(dict)\n",
    "    \n",
    "    for budget in stress_events_prompts.keys():\n",
    "        df_stress_id_prompt_status = (pd.DataFrame({'stress_id':list(stress_events_prompts[budget]\n",
    "                                                                    .keys()), \n",
    "                                                  'prompt_status':list(stress_events_prompts[budget]\n",
    "                                                                       .values())})\n",
    "                                      .merge(th_based_stress_events[['stress_id',\n",
    "                                                                     'rated', \n",
    "                                                                     'rating_with_stressor']],\n",
    "                                                           on='stress_id',how='inner')\n",
    "                                      .merge(final_df_band[['stress_id', \n",
    "                                                            \"band_ten\"]], \n",
    "                                             on='stress_id',\n",
    "                                             how='inner')\n",
    "                                      .assign(band_ten=lambda df_: df_[\"band_ten\"]\n",
    "                                                  .astype(int)))\n",
    "        \n",
    "        result = (df_stress_id_prompt_status\n",
    "                  .loc[(df_stress_id_prompt_status['prompt_status'] == 1) & \n",
    "                       (df_stress_id_prompt_status['rated'] == 1)]\n",
    "                  .groupby('band_ten')['rating_with_stressor']\n",
    "                  .value_counts(normalize=True)\n",
    "                  .unstack()\n",
    "                  .fillna(0)\n",
    "                  .sort_values(by=['band_ten']))\n",
    "        \n",
    "        for band in range(10, 110, 10):\n",
    "            if band in result.index.to_list():\n",
    "                normalized_one_stressor_likelihood[budget][band] = result.loc[band, 'Valid']\n",
    "        normalized_one_stressor_likelihood[budget]['average'] = result['Valid'].mean()\n",
    "        print(budget)        \n",
    "        print(result)\n",
    "        print(\"*\"*80)\n",
    "    return normalized_one_stressor_likelihood   "
   ]
  },
  {
   "cell_type": "code",
   "execution_count": 29,
   "metadata": {
    "scrolled": true
   },
   "outputs": [
    {
     "name": "stdout",
     "output_type": "stream",
     "text": [
      "1\n",
      "rating_with_stressor    NA  Valid  illegible\n",
      "band_ten                                    \n",
      "20                   1.000  0.000      0.000\n",
      "30                   1.000  0.000      0.000\n",
      "40                   0.781  0.219      0.000\n",
      "50                   0.762  0.238      0.000\n",
      "60                   0.660  0.333      0.007\n",
      "70                   0.628  0.360      0.012\n",
      "80                   0.537  0.453      0.010\n",
      "90                   0.503  0.479      0.018\n",
      "100                  0.400  0.577      0.022\n",
      "********************************************************************************\n",
      "2\n",
      "rating_with_stressor    NA  Valid  illegible\n",
      "band_ten                                    \n",
      "10                   1.000  0.000      0.000\n",
      "20                   1.000  0.000      0.000\n",
      "30                   0.857  0.143      0.000\n",
      "40                   0.679  0.321      0.000\n",
      "50                   0.733  0.237      0.030\n",
      "60                   0.610  0.377      0.013\n",
      "70                   0.618  0.376      0.006\n",
      "80                   0.540  0.450      0.010\n",
      "90                   0.493  0.488      0.019\n",
      "100                  0.406  0.577      0.017\n",
      "********************************************************************************\n",
      "3\n",
      "rating_with_stressor    NA  Valid  illegible\n",
      "band_ten                                    \n",
      "10                   1.000  0.000      0.000\n",
      "20                   0.500  0.500      0.000\n",
      "30                   0.789  0.211      0.000\n",
      "40                   0.695  0.305      0.000\n",
      "50                   0.796  0.186      0.018\n",
      "60                   0.672  0.322      0.006\n",
      "70                   0.603  0.386      0.011\n",
      "80                   0.550  0.438      0.012\n",
      "90                   0.497  0.485      0.018\n",
      "100                  0.420  0.562      0.019\n",
      "********************************************************************************\n",
      "4\n",
      "rating_with_stressor    NA  Valid  illegible\n",
      "band_ten                                    \n",
      "10                   1.000  0.000      0.000\n",
      "20                   1.000  0.000      0.000\n",
      "30                   0.893  0.107      0.000\n",
      "40                   0.791  0.209      0.000\n",
      "50                   0.777  0.201      0.022\n",
      "60                   0.657  0.333      0.010\n",
      "70                   0.592  0.394      0.014\n",
      "80                   0.556  0.434      0.010\n",
      "90                   0.486  0.497      0.018\n",
      "100                  0.424  0.557      0.019\n",
      "********************************************************************************\n",
      "5\n",
      "rating_with_stressor    NA  Valid  illegible\n",
      "band_ten                                    \n",
      "10                   1.000  0.000      0.000\n",
      "20                   1.000  0.000      0.000\n",
      "30                   0.829  0.171      0.000\n",
      "40                   0.746  0.254      0.000\n",
      "50                   0.763  0.218      0.019\n",
      "60                   0.642  0.352      0.006\n",
      "70                   0.592  0.397      0.012\n",
      "80                   0.568  0.423      0.010\n",
      "90                   0.495  0.487      0.018\n",
      "100                  0.415  0.565      0.020\n",
      "********************************************************************************\n",
      "6\n",
      "rating_with_stressor    NA  Valid  illegible\n",
      "band_ten                                    \n",
      "10                   1.000  0.000      0.000\n",
      "20                   0.714  0.286      0.000\n",
      "30                   0.825  0.175      0.000\n",
      "40                   0.772  0.228      0.000\n",
      "50                   0.746  0.245      0.009\n",
      "60                   0.653  0.341      0.005\n",
      "70                   0.615  0.373      0.011\n",
      "80                   0.556  0.436      0.008\n",
      "90                   0.492  0.489      0.019\n",
      "100                  0.398  0.584      0.018\n",
      "********************************************************************************\n"
     ]
    }
   ],
   "source": [
    "normalized_one_stressor_likelihood = normalized_one_stressor_likelihood(stress_events_prompts, \n",
    "                                                                        th_based_stress_events, \n",
    "                                                                        final_df_band)"
   ]
  },
  {
   "cell_type": "code",
   "execution_count": 30,
   "metadata": {
    "scrolled": true
   },
   "outputs": [
    {
     "data": {
      "text/plain": [
       "defaultdict(dict,\n",
       "            {1: {20: 0.0,\n",
       "              30: 0.0,\n",
       "              40: 0.21875,\n",
       "              50: 0.23809523809523808,\n",
       "              60: 0.3333333333333333,\n",
       "              70: 0.36046511627906974,\n",
       "              80: 0.45307443365695793,\n",
       "              90: 0.4786184210526316,\n",
       "              100: 0.5774058577405857,\n",
       "              'average': 0.2955269333508685},\n",
       "             2: {10: 0.0,\n",
       "              20: 0.0,\n",
       "              30: 0.14285714285714285,\n",
       "              40: 0.32142857142857145,\n",
       "              50: 0.23703703703703705,\n",
       "              60: 0.3771186440677966,\n",
       "              70: 0.37577639751552794,\n",
       "              80: 0.45032051282051283,\n",
       "              90: 0.4877606527651859,\n",
       "              100: 0.5773353751914242,\n",
       "              'average': 0.2969634333683199},\n",
       "             3: {10: 0.0,\n",
       "              20: 0.5,\n",
       "              30: 0.21052631578947367,\n",
       "              40: 0.3048780487804878,\n",
       "              50: 0.18562874251497005,\n",
       "              60: 0.321875,\n",
       "              70: 0.38626609442060084,\n",
       "              80: 0.4383078730904818,\n",
       "              90: 0.4847908745247148,\n",
       "              100: 0.5616362631288004,\n",
       "              'average': 0.33939092122495296},\n",
       "             4: {10: 0.0,\n",
       "              20: 0.0,\n",
       "              30: 0.10714285714285714,\n",
       "              40: 0.20930232558139536,\n",
       "              50: 0.20087336244541484,\n",
       "              60: 0.3333333333333333,\n",
       "              70: 0.39419795221843,\n",
       "              80: 0.43410138248847924,\n",
       "              90: 0.4965139442231076,\n",
       "              100: 0.5569191705459162,\n",
       "              'average': 0.27323843279789334},\n",
       "             5: {10: 0.0,\n",
       "              20: 0.0,\n",
       "              30: 0.17073170731707318,\n",
       "              40: 0.25396825396825395,\n",
       "              50: 0.21804511278195488,\n",
       "              60: 0.352112676056338,\n",
       "              70: 0.3967789165446559,\n",
       "              80: 0.42289348171701113,\n",
       "              90: 0.48717948717948717,\n",
       "              100: 0.5651865008880995,\n",
       "              'average': 0.2866896136452874},\n",
       "             6: {10: 0.0,\n",
       "              20: 0.2857142857142857,\n",
       "              30: 0.175,\n",
       "              40: 0.22758620689655173,\n",
       "              50: 0.24458204334365324,\n",
       "              60: 0.34146341463414637,\n",
       "              70: 0.37326607818411095,\n",
       "              80: 0.4362745098039216,\n",
       "              90: 0.4887875332573166,\n",
       "              100: 0.5843409915356711,\n",
       "              'average': 0.3157015063369657}})"
      ]
     },
     "execution_count": 30,
     "metadata": {},
     "output_type": "execute_result"
    }
   ],
   "source": [
    "normalized_one_stressor_likelihood"
   ]
  },
  {
   "cell_type": "code",
   "execution_count": 88,
   "metadata": {},
   "outputs": [],
   "source": [
    "df_budgets = pd.DataFrame()\n",
    "for budget in normalized_one_stressor_likelihood.keys():\n",
    "    df = (pd.DataFrame({'percentile' : list(normalized_one_stressor_likelihood[budget].keys()), \n",
    "                       'stressor_lh' : list(normalized_one_stressor_likelihood[budget].values())})\n",
    "          .assign(budget=budget))\n",
    "    df_budgets = pd.concat([df_budgets, df])"
   ]
  },
  {
   "cell_type": "code",
   "execution_count": 138,
   "metadata": {},
   "outputs": [
    {
     "data": {
      "image/png": "[encoded data removed]",
      "text/plain": [
       "<Figure size 1080x720 with 6 Axes>"
      ]
     },
     "metadata": {},
     "output_type": "display_data"
    }
   ],
   "source": [
    "nrows = 2\n",
    "ncols = int(np.ceil(df_budgets['budget'].max() / nrows))\n",
    "fig, axes = plt.subplots(nrows=nrows, ncols=ncols, sharex=False, sharey=False, figsize=(ncols*5, nrows*5 ))\n",
    "r, c = 0, 0\n",
    "for budget in df_budgets['budget'].unique():\n",
    "    data = df_budgets.loc[df_budgets['budget'] == budget]\n",
    "    sns.barplot(data=data, \n",
    "                x=[str(p) for p in data['percentile'].to_list()], \n",
    "                y='stressor_lh', ax=axes[r][c])\n",
    "    axes[r][c].set_title(f\"At least one stressor likelihood, budget-{budget}\", fontweight='bold')\n",
    "    axes[r][c].set_xlabel(\"percentile/average\", fontweight='bold')\n",
    "    axes[r][c].set_ylabel(\"likelihood\", fontweight='bold')\n",
    "    xticks = data['percentile'].index\n",
    "    xticklabels = data['percentile'].to_list()\n",
    "    axes[r][c].set_xticks(xticks)\n",
    "    axes[r][c].set_xticklabels(xticklabels,                                      \n",
    "                               rotation=90, \n",
    "                               fontsize=9, \n",
    "                               fontweight='bold'\n",
    "                              )\n",
    "    yticks = np.arange(0, 1.1, 0.1)\n",
    "    yticklabels = [str(np.round(tick, 2)) for tick in yticks]\n",
    "    axes[r][c].set_yticks(yticks)\n",
    "    axes[r][c].set_yticklabels(yticklabels,                                       \n",
    "                               fontsize=9, \n",
    "                               fontweight='bold'\n",
    "                              )                             \n",
    "    c += 1\n",
    "    if c == ncols:\n",
    "        r += 1\n",
    "        c = 0\n",
    "fig.tight_layout()    "
   ]
  },
  {
   "cell_type": "markdown",
   "metadata": {},
   "source": [
    "### Sanity check when any of the 10 bands have no observations"
   ]
  },
  {
   "cell_type": "code",
   "execution_count": 38,
   "metadata": {},
   "outputs": [],
   "source": [
    "# pick budget = 1\n",
    "check_status = (pd.DataFrame({'stress_id':list(stress_events_prompts[1]\n",
    "                                                                    .keys()), \n",
    "                                                  'prompt_status':list(stress_events_prompts[1]\n",
    "                                                                       .values())})\n",
    "                                      .merge(th_based_stress_events[['stress_id',\n",
    "                                                                     'rated', \n",
    "                                                                     'rating_with_stressor']],\n",
    "                                                           on='stress_id',how='inner')\n",
    "                                      .merge(final_df_band[['stress_id', \n",
    "                                                            \"band_ten\"]], \n",
    "                                             on='stress_id',\n",
    "                                             how='inner')\n",
    "                                      .assign(band_ten=lambda df_: df_[\"band_ten\"]\n",
    "                                                  .astype(int)))"
   ]
  },
  {
   "cell_type": "code",
   "execution_count": 42,
   "metadata": {},
   "outputs": [
    {
     "data": {
      "text/html": [
       "<div>\n",
       "<style scoped>\n",
       "    .dataframe tbody tr th:only-of-type {\n",
       "        vertical-align: middle;\n",
       "    }\n",
       "\n",
       "    .dataframe tbody tr th {\n",
       "        vertical-align: top;\n",
       "    }\n",
       "\n",
       "    .dataframe thead th {\n",
       "        text-align: right;\n",
       "    }\n",
       "</style>\n",
       "<table border=\"1\" class=\"dataframe\">\n",
       "  <thead>\n",
       "    <tr style=\"text-align: right;\">\n",
       "      <th></th>\n",
       "      <th>stress_id</th>\n",
       "      <th>prompt_status</th>\n",
       "      <th>rated</th>\n",
       "      <th>rating_with_stressor</th>\n",
       "      <th>band_ten</th>\n",
       "    </tr>\n",
       "  </thead>\n",
       "  <tbody>\n",
       "  </tbody>\n",
       "</table>\n",
       "</div>"
      ],
      "text/plain": [
       "Empty DataFrame\n",
       "Columns: [stress_id, prompt_status, rated, rating_with_stressor, band_ten]\n",
       "Index: []"
      ]
     },
     "execution_count": 42,
     "metadata": {},
     "output_type": "execute_result"
    }
   ],
   "source": [
    "# for any missing band from the 10 bands, there should be no stress id which was both prompted and annotated\n",
    "# i.e. no observation was recorded in this band for this budget \n",
    "check_status.loc[(check_status['band_ten'] == 10) & \n",
    "                 (check_status['prompt_status'] == 1) & \n",
    "                 (check_status['rated'] == 1)]"
   ]
  },
  {
   "cell_type": "markdown",
   "metadata": {},
   "source": [
    "### Sanity check budget vs prompt status (prompt <= budget)"
   ]
  },
  {
   "cell_type": "code",
   "execution_count": 50,
   "metadata": {},
   "outputs": [],
   "source": [
    "b4 = th_based_stress_events.loc[th_based_stress_events['budget_4'] == 1]\n",
    "b4_total_prompts = b4.groupby(['user', 'date'])['budget_4'].agg('sum').reset_index(name='prompted')"
   ]
  },
  {
   "cell_type": "code",
   "execution_count": 51,
   "metadata": {},
   "outputs": [],
   "source": [
    "# b4_total_prompts"
   ]
  },
  {
   "cell_type": "code",
   "execution_count": 32,
   "metadata": {},
   "outputs": [
    {
     "data": {
      "text/plain": [
       "(1, 4)"
      ]
     },
     "execution_count": 32,
     "metadata": {},
     "output_type": "execute_result"
    }
   ],
   "source": [
    "b4_total_prompts[\"prompted\"].min(), b4_total_prompts[\"prompted\"].max()"
   ]
  },
  {
   "cell_type": "markdown",
   "metadata": {},
   "source": [
    "### Sanity check the Bernoulli distribution simulated by np.random.choice"
   ]
  },
  {
   "cell_type": "code",
   "execution_count": 33,
   "metadata": {},
   "outputs": [],
   "source": [
    "def validation(pos):\n",
    "    res = []\n",
    "    for i in range(500):\n",
    "        num = np.random.choice([0, 1], size=1,  p=[1-pos, pos])[0]\n",
    "        res.append(num)\n",
    "    return res"
   ]
  },
  {
   "cell_type": "code",
   "execution_count": 34,
   "metadata": {
    "scrolled": true
   },
   "outputs": [
    {
     "name": "stdout",
     "output_type": "stream",
     "text": [
      "probablity of success: 0.0\n",
      "1.0 0.0\n",
      "1.0 0.0\n",
      "1.0 0.0\n",
      "1.0 0.0\n",
      "1.0 0.0\n",
      "1.0 0.0\n",
      "1.0 0.0\n",
      "1.0 0.0\n",
      "1.0 0.0\n",
      "1.0 0.0\n",
      "--------------------------------------------------------------------------------\n",
      "probablity of success: 0.1\n",
      "0.898 0.102\n",
      "0.884 0.116\n",
      "0.92 0.08\n",
      "0.916 0.084\n",
      "0.894 0.106\n",
      "0.892 0.108\n",
      "0.904 0.096\n",
      "0.916 0.084\n",
      "0.918 0.082\n",
      "0.898 0.102\n",
      "--------------------------------------------------------------------------------\n",
      "probablity of success: 0.2\n",
      "0.822 0.178\n",
      "0.8 0.2\n",
      "0.768 0.232\n",
      "0.782 0.218\n",
      "0.826 0.174\n",
      "0.804 0.196\n",
      "0.818 0.182\n",
      "0.8 0.2\n",
      "0.814 0.186\n",
      "0.836 0.164\n",
      "--------------------------------------------------------------------------------\n",
      "probablity of success: 0.30000000000000004\n",
      "0.714 0.286\n",
      "0.688 0.312\n",
      "0.702 0.298\n",
      "0.716 0.284\n",
      "0.71 0.29\n",
      "0.724 0.276\n",
      "0.72 0.28\n",
      "0.718 0.282\n",
      "0.712 0.288\n",
      "0.732 0.268\n",
      "--------------------------------------------------------------------------------\n",
      "probablity of success: 0.4\n",
      "0.578 0.422\n",
      "0.562 0.438\n",
      "0.598 0.402\n",
      "0.606 0.394\n",
      "0.638 0.362\n",
      "0.626 0.374\n",
      "0.61 0.39\n",
      "0.618 0.382\n",
      "0.6 0.4\n",
      "0.592 0.408\n",
      "--------------------------------------------------------------------------------\n",
      "probablity of success: 0.5\n",
      "0.528 0.472\n",
      "0.496 0.504\n",
      "0.48 0.52\n",
      "0.494 0.506\n",
      "0.492 0.508\n",
      "0.496 0.504\n",
      "0.462 0.538\n",
      "0.506 0.494\n",
      "0.518 0.482\n",
      "0.47 0.53\n",
      "--------------------------------------------------------------------------------\n",
      "probablity of success: 0.6000000000000001\n",
      "0.418 0.582\n",
      "0.368 0.632\n",
      "0.398 0.602\n",
      "0.422 0.578\n",
      "0.4 0.6\n",
      "0.376 0.624\n",
      "0.358 0.642\n",
      "0.43 0.57\n",
      "0.388 0.612\n",
      "0.366 0.634\n",
      "--------------------------------------------------------------------------------\n",
      "probablity of success: 0.7000000000000001\n",
      "0.274 0.726\n",
      "0.268 0.732\n",
      "0.312 0.688\n",
      "0.306 0.694\n",
      "0.29 0.71\n",
      "0.312 0.688\n",
      "0.304 0.696\n",
      "0.284 0.716\n",
      "0.292 0.708\n",
      "0.292 0.708\n",
      "--------------------------------------------------------------------------------\n",
      "probablity of success: 0.8\n",
      "0.216 0.784\n",
      "0.182 0.818\n",
      "0.192 0.808\n",
      "0.204 0.796\n",
      "0.208 0.792\n",
      "0.236 0.764\n",
      "0.194 0.806\n",
      "0.2 0.8\n",
      "0.204 0.796\n",
      "0.182 0.818\n",
      "--------------------------------------------------------------------------------\n",
      "probablity of success: 0.9\n",
      "0.094 0.906\n",
      "0.09 0.91\n",
      "0.108 0.892\n",
      "0.11 0.89\n",
      "0.132 0.868\n",
      "0.08 0.92\n",
      "0.088 0.912\n",
      "0.122 0.878\n",
      "0.116 0.884\n",
      "0.11 0.89\n",
      "--------------------------------------------------------------------------------\n",
      "probablity of success: 1.0\n",
      "0.0 1.0\n",
      "0.0 1.0\n",
      "0.0 1.0\n",
      "0.0 1.0\n",
      "0.0 1.0\n",
      "0.0 1.0\n",
      "0.0 1.0\n",
      "0.0 1.0\n",
      "0.0 1.0\n",
      "0.0 1.0\n",
      "--------------------------------------------------------------------------------\n"
     ]
    }
   ],
   "source": [
    "for pos in np.arange(0, 1.1, 0.1):\n",
    "    print(f\"probablity of success: {pos}\")\n",
    "    for trial in range(1, 11):\n",
    "        res = validation(pos)\n",
    "        print(res.count(0)/len(res), res.count(1)/len(res))\n",
    "    print(\"-\" * 80)"
   ]
  },
  {
   "cell_type": "markdown",
   "metadata": {},
   "source": [
    "### Sanity check stresssor likelihood of 75th percentile"
   ]
  },
  {
   "cell_type": "code",
   "execution_count": 52,
   "metadata": {},
   "outputs": [],
   "source": [
    "# final_df_band.head(2)"
   ]
  },
  {
   "cell_type": "code",
   "execution_count": 53,
   "metadata": {
    "scrolled": false
   },
   "outputs": [],
   "source": [
    "final_df_band = final_df_band.assign(rated=lambda df_: np.where(df_['user_rating'].notnull(), 1, 0), \n",
    "                                     date=lambda df_: df_['starttime'].dt.date, \n",
    "                                     top_75=lambda df_: df_['top_75'].astype(int))\n",
    "top_75th_daywise_annot_count = (final_df_band\n",
    "                                .loc[final_df_band['top_75'] == 1]\n",
    "                                .groupby(['user', 'date'])['rated']\n",
    "                                .agg('sum')\n",
    "                                .reset_index(name='annot_count'))"
   ]
  },
  {
   "cell_type": "code",
   "execution_count": 55,
   "metadata": {},
   "outputs": [],
   "source": [
    "# top_75th_daywise_annot_count.head()"
   ]
  },
  {
   "cell_type": "code",
   "execution_count": 37,
   "metadata": {},
   "outputs": [
    {
     "name": "stdout",
     "output_type": "stream",
     "text": [
      "1 0.7693561532192339\n",
      "2 0.6478426395939086\n",
      "3 0.6898932831136221\n",
      "4 0.5732558139534883\n",
      "5 0.5874538745387454\n",
      "6 0.6148648648648649\n"
     ]
    }
   ],
   "source": [
    "for budget in range(1, 7):\n",
    "    budget_df_75th = (top_75th_daywise_annot_count.loc[top_75th_daywise_annot_count['annot_count'] == budget, \n",
    "                                                    ['user', 'date']])\n",
    "    if len(budget_df_75th):\n",
    "        total_annot = len(budget_df_75th) * budget\n",
    "        \n",
    "        valid_stressors = 0\n",
    "        for idx, row in budget_df_75th.iterrows():\n",
    "            stressors = th_based_stress_events.loc[(th_based_stress_events['user'] == row['user']) & \n",
    "                                                   (th_based_stress_events['date'] == row['date']) & \n",
    "                                                   (th_based_stress_events['rating_with_stressor'] == 'Valid')]\n",
    "            if len(stressors):\n",
    "                valid_stressors += len(stressors)\n",
    "                                             \n",
    "        valid_stressor_ratio = valid_stressors / total_annot\n",
    "        print(budget, valid_stressor_ratio )"
   ]
  }
 ],
 "metadata": {
  "kernelspec": {
   "display_name": "CC3.3",
   "language": "python",
   "name": "cc33"
  },
  "language_info": {
   "codemirror_mode": {
    "name": "ipython",
    "version": 3
   },
   "file_extension": ".py",
   "mimetype": "text/x-python",
   "name": "python",
   "nbconvert_exporter": "python",
   "pygments_lexer": "ipython3",
   "version": "3.6.8"
  }
 },
 "nbformat": 4,
 "nbformat_minor": 2
}
